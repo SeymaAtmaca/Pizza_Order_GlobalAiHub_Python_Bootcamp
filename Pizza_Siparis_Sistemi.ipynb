{
  "nbformat": 4,
  "nbformat_minor": 0,
  "metadata": {
    "colab": {
      "provenance": []
    },
    "kernelspec": {
      "name": "python3",
      "display_name": "Python 3"
    },
    "language_info": {
      "name": "python"
    }
  },
  "cells": [
    {
      "cell_type": "code",
      "source": [
        "from google.colab import drive\n",
        "drive.mount('/content/drive')"
      ],
      "metadata": {
        "colab": {
          "base_uri": "https://localhost:8080/"
        },
        "id": "l7vgqd9F9QZJ",
        "outputId": "1984f368-c7a2-405d-8540-f408801b23c5"
      },
      "execution_count": null,
      "outputs": [
        {
          "output_type": "stream",
          "name": "stdout",
          "text": [
            "Mounted at /content/drive\n"
          ]
        }
      ]
    },
    {
      "cell_type": "code",
      "execution_count": null,
      "metadata": {
        "id": "TKw1Xr9qyTCU"
      },
      "outputs": [],
      "source": [
        "import csv\n",
        "import datetime\n",
        "import os"
      ]
    },
    {
      "cell_type": "code",
      "source": [],
      "metadata": {
        "id": "lYOa0S9ZyUd-"
      },
      "execution_count": null,
      "outputs": []
    },
    {
      "cell_type": "code",
      "source": [],
      "metadata": {
        "id": "RSZIYnt4yUgL"
      },
      "execution_count": null,
      "outputs": []
    },
    {
      "cell_type": "code",
      "source": [
        "# Pizzalar\n",
        "\n",
        "class pizza():\n",
        "  def __init__(self):\n",
        "    self.main_cost = 40\n",
        "\n",
        "  def get_description(self):\n",
        "    # Hazirlanan pizzaya ait aciklamanin yapildigi fonksiyon\n",
        "    raise NotImplementedError(\"Subclass must implement abstract method\")\n",
        "\n",
        "  def get_cost(self):\n",
        "    raise NotImplementedError(\"Subclass must implement abstract method\")\n",
        "\n",
        "#######################\n",
        "\n",
        "class klasik(pizza):\n",
        "  def get_description(self):\n",
        "    return \"Klasik pizza tutarı : \" +  str(self.get_cost())\n",
        "\n",
        "  def get_cost(self):\n",
        "    return self.main_cost + 10\n",
        "\n",
        "\n",
        "#######################\n",
        "\n",
        "\n",
        "class Margherita(pizza):\n",
        "  def get_description(self):\n",
        "    return \"Margarita pizza tutarı : \" + str(self.get_cost())\n",
        "\n",
        "  def get_cost(self):\n",
        "    return self.main_cost + 20\n",
        "\n",
        "\n",
        "#######################\n",
        "\n",
        "\n",
        "class turkPizza(pizza):\n",
        "  def get_description(self):\n",
        "    return \"Türk Pizzası tutarı : \" + str(self.get_cost())\n",
        "\n",
        "  def get_cost(self):\n",
        "    return self.main_cost + 30\n",
        "\n",
        "\n",
        "\n",
        "#######################\n",
        "\n",
        "\n",
        "class sadePizza(pizza):\n",
        "  def get_description(self):\n",
        "    return \"Sade Pizza tutarı : \" + str(self.get_cost())\n",
        "\n",
        "  def get_cost(self):\n",
        "    return self.main_cost + 5"
      ],
      "metadata": {
        "id": "WfdTuM_VyUip"
      },
      "execution_count": null,
      "outputs": []
    },
    {
      "cell_type": "code",
      "source": [
        "## SOSLAR\n",
        "\n",
        "class decorator():\n",
        "  def __init__(self):\n",
        "    self.add_price = 0\n",
        "\n",
        "  def get_description(self):\n",
        "    raise NotImplementedError(\"Subclass must implement abstract method\")\n",
        "  \n",
        "  def get_cost(self):\n",
        "    raise NotImplementedError(\"Subclass must implement abstract method\")\n",
        "\n",
        "\n",
        "##########################\n",
        "\n",
        "\n",
        "class zeytin(decorator):\n",
        "  def get_description(self):\n",
        "    return \" Zeytin eklendi.\"\n",
        "\n",
        "  def get_cost(self):\n",
        "    return self.add_price + 5\n",
        "\n",
        "\n",
        "##########################\n",
        "\n",
        "\n",
        "class mantar(decorator):\n",
        "  def get_description(self):\n",
        "    return \" Mantar eklendi.\"\n",
        "\n",
        "  def get_cost(self):\n",
        "    return self.add_price + 10 \n",
        "\n",
        "\n",
        "##########################\n",
        "\n",
        "\n",
        "class keci_peyniri(decorator):\n",
        "  def get_description(self):\n",
        "    return \" Keçi Peyniri eklendi.\"\n",
        "\n",
        "  def get_cost(self):\n",
        "    return self.add_price + 10\n",
        "\n",
        "\n",
        "##########################\n",
        "\n",
        "\n",
        "class et(decorator):\n",
        "  def get_description(self):\n",
        "    return \" Et eklendi.\"\n",
        "\n",
        "  def get_cost(self):\n",
        "    return self.add_price + 20\n",
        "\n",
        "\n",
        "\n",
        "##########################\n",
        "\n",
        "\n",
        "\n",
        "class sogan(decorator):\n",
        "  def get_description(self):\n",
        "    return \" Soğan eklendi.\"\n",
        "\n",
        "  def get_cost(self):\n",
        "    return self.add_price + 3\n",
        "\n",
        "\n",
        "\n",
        "##########################\n",
        "\n",
        "\n",
        "\n",
        "class misir(decorator):\n",
        "  def get_description(self):\n",
        "    return \" Mısır eklendi.\"\n",
        "\n",
        "  def get_cost(self):\n",
        "    return self.add_price + 7\n",
        "\n"
      ],
      "metadata": {
        "id": "lS6mFwaU1JTY"
      },
      "execution_count": null,
      "outputs": []
    },
    {
      "cell_type": "code",
      "source": [],
      "metadata": {
        "id": "5NDmG19a9Lnp"
      },
      "execution_count": null,
      "outputs": []
    },
    {
      "cell_type": "code",
      "source": [
        "def create_lists():\n",
        "  menu , malzeme = [], [\"Malzeme ekleme\"]\n",
        "  DIR_PATH = '/content/drive/MyDrive/Python/Global AI Hub | Bootcamp/Menu.txt'\n",
        "\n",
        "  with open(DIR_PATH) as f:  menu_array = [line[:-1] for line in f.readlines()]\n",
        "  for i in menu_array[1:5]: menu.append(i[2:])\n",
        "  for i in menu_array[6:-1]: malzeme.append(i[3:])\n",
        "\n",
        "  return menu, malzeme\n",
        "\n",
        "    \n",
        "create_lists()"
      ],
      "metadata": {
        "colab": {
          "base_uri": "https://localhost:8080/"
        },
        "id": "ylV-DeOO1JbF",
        "outputId": "3cfcb9b8-2901-47b8-fe73-5615970c9b4f"
      },
      "execution_count": null,
      "outputs": [
        {
          "output_type": "execute_result",
          "data": {
            "text/plain": [
              "([' Klasik', ' Margarita', ' TürkPizza', ' Sade Pizza'],\n",
              " ['Malzeme ekleme',\n",
              "  ' Zeytin',\n",
              "  ' Mantarlar',\n",
              "  ' Keçi Peyniri',\n",
              "  ' Et',\n",
              "  ' Soğan',\n",
              "  ' Mısır'])"
            ]
          },
          "metadata": {},
          "execution_count": 80
        }
      ]
    },
    {
      "cell_type": "code",
      "source": [
        "%cd \"/content/drive/MyDrive/Python/Global AI Hub | Bootcamp\""
      ],
      "metadata": {
        "colab": {
          "base_uri": "https://localhost:8080/"
        },
        "id": "A1HuZFloHT4k",
        "outputId": "bf1f2e1d-4e73-4cfb-f917-f40646e2d3f2"
      },
      "execution_count": null,
      "outputs": [
        {
          "output_type": "stream",
          "name": "stdout",
          "text": [
            "/content/drive/MyDrive/Python/Global AI Hub | Bootcamp\n"
          ]
        }
      ]
    },
    {
      "cell_type": "code",
      "source": [
        "import csv\n",
        "\n",
        "def add_custom_to_database():\n",
        "\n",
        "  # csv dosya baslıklari\n",
        "  row_names = ['Name','Surname','Tc']\n",
        "\n",
        "  # csv dosya iceriginin tutulacagi array\n",
        "  datas = []\n",
        "\n",
        "  # kullanici bilgileri ve info icine kayit edilmesi\n",
        "  name = str(input(\"Lutfen isminizi giriniz : \"))\n",
        "  surname = str(input(\"Lutfen soyisminizi giriniz : \"))\n",
        "  tc = str(input(\"Lutfen tc' nizi giriniz\"))\n",
        "  info = {\"Name\":name, \"Surname\": surname,\"Tc\": tc}\n",
        "\n",
        "\n",
        "  # csv iceriginin cekilmesi\n",
        "  with open(\"./custom.csv\", \"r\") as f:\n",
        "    reader = csv.reader(f)\n",
        "    for i in reader:\n",
        "      datas.append(i)\n",
        "\n",
        "\n",
        "  # eger ilk kez siparis veriliyorsa ;\n",
        "  if info not in datas :\n",
        "      with open('./custom.csv', 'a') as csv_file:\n",
        "        dict_object = csv.DictWriter(csv_file, fieldnames=row_names) \n",
        "        dict_object.writerow(info)\n",
        "        \n",
        "  # daha once siparis verilmisse yani kullanici bilgileri sistemde varsa ;\n",
        "  else : \n",
        "    print(\"Daha önce sipariş verilmiş, güncelleme yapılacak.. \")\n",
        "\n",
        "\n",
        "\n",
        "def create_pizza(pizza_index):\n",
        "  if pizza_index == 1 : return klasik()\n",
        "  elif pizza_index == 2 : return Margherita()\n",
        "  elif pizza_index == 3 : return turkPizza()\n",
        "  elif pizza_index == 4 : return sadePizza()\n",
        "  else : \n",
        "    print(\"Lutfen geçerli bir sayi giriniz! \") \n",
        "    return 0\n",
        "\n",
        "\n",
        "\n",
        "def create_decoration(decoration_index):\n",
        "  if decoration_index == 1: return zeytin()\n",
        "  elif decoration_index == 2: return mantar()\n",
        "  elif decoration_index == 3: return keci_peyniri()\n",
        "  elif decoration_index == 4: return et()\n",
        "  elif decoration_index == 5: return sogan()\n",
        "  elif decoration_index == 6: return misir()\n",
        "  elif decoration_index == 0: \n",
        "    print(\" Malzeme eklenmedi! \")\n",
        "    return 0 "
      ],
      "metadata": {
        "id": "5cmpk_P2Bf5N"
      },
      "execution_count": null,
      "outputs": []
    },
    {
      "cell_type": "code",
      "source": [
        "def main():\n",
        "  print(\"Pizzacımıza HoşGeldiniz.. :D\")\n",
        "\n",
        "  # kisisel bilgilerin alimi \n",
        "  add_custom_to_database()\n",
        "\n",
        "  # pizza secimi \n",
        "  menu, malzeme = create_lists()\n",
        "  print(\"\\n\\nLutfen bir pizza çeşidi seçiniz : \")\n",
        "  for i in range(len(menu)): print((i+1), menu[i])  # pizzaların ekrana yazdırılması\n",
        "  pizza = create_pizza(int(input()))\n",
        "  print(pizza.get_description())\n",
        "\n",
        "\n",
        "  # malzeme secimi\n",
        "  print(\"\\n\\nEk malzeme seçmek ister misiniz ? \")\n",
        "  for i in range(len(malzeme)): print((i), malzeme[i])  # malzemelerin ekrana yazdırılması\n",
        "  malzeme = create_decoration(int(input()))\n",
        "  print(malzeme.get_description())\n",
        "\n",
        "  cost = pizza.get_cost() + malzeme.get_cost()\n",
        "  print(\"\\n\\nToplam tutarınız : \", cost)\n",
        "\n",
        "  \n",
        "\n",
        "main()"
      ],
      "metadata": {
        "id": "4zSVhGqo1Jdq",
        "colab": {
          "base_uri": "https://localhost:8080/"
        },
        "outputId": "c45e5f2d-5c24-4727-f458-b5b721966bdb"
      },
      "execution_count": null,
      "outputs": [
        {
          "output_type": "stream",
          "name": "stdout",
          "text": [
            "Pizzacımıza HoşGeldiniz.. :D\n",
            "Lutfen isminizi giriniz : ayse\n",
            "Lutfen soyisminizi giriniz : fatma\n",
            "Lutfen tc' nizi giriniz123456789\n",
            "{'Name': 'ayse', 'Surname': 'fatma', 'Tc': '123456789'}\n",
            "\n",
            "\n",
            "Lutfen bir pizza çeşidi seçiniz : \n",
            "1  Klasik\n",
            "2  Margarita\n",
            "3  TürkPizza\n",
            "4  Sade Pizza\n",
            "1\n",
            "Klasik pizza tutarı : 50\n",
            "\n",
            "\n",
            "Ek malzeme seçmek ister misiniz ? \n",
            "0 Malzeme ekleme\n",
            "1  Zeytin\n",
            "2  Mantarlar\n",
            "3  Keçi Peyniri\n",
            "4  Et\n",
            "5  Soğan\n",
            "6  Mısır\n",
            "3\n",
            " Keçi Peyniri eklendi.\n",
            "Toplam tutarınız :  60\n"
          ]
        }
      ]
    },
    {
      "cell_type": "code",
      "source": [],
      "metadata": {
        "id": "9jBohrfi1JgL"
      },
      "execution_count": null,
      "outputs": []
    },
    {
      "cell_type": "code",
      "source": [],
      "metadata": {
        "id": "fXHFrqFu04DM"
      },
      "execution_count": null,
      "outputs": []
    },
    {
      "cell_type": "code",
      "source": [],
      "metadata": {
        "id": "pjiP0mbg04FR"
      },
      "execution_count": null,
      "outputs": []
    }
  ]
}